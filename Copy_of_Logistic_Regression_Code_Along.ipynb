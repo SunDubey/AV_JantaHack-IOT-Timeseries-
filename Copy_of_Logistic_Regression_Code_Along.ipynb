{
  "nbformat": 4,
  "nbformat_minor": 0,
  "metadata": {
    "kernelspec": {
      "display_name": "Python 3",
      "language": "python",
      "name": "python3"
    },
    "language_info": {
      "codemirror_mode": {
        "name": "ipython",
        "version": 3
      },
      "file_extension": ".py",
      "mimetype": "text/x-python",
      "name": "python",
      "nbconvert_exporter": "python",
      "pygments_lexer": "ipython3",
      "version": "3.7.0"
    },
    "colab": {
      "name": "Copy of Logistic Regression_Code_Along.ipynb",
      "provenance": [],
      "include_colab_link": true
    }
  },
  "cells": [
    {
      "cell_type": "markdown",
      "metadata": {
        "id": "view-in-github",
        "colab_type": "text"
      },
      "source": [
        "<a href=\"https://colab.research.google.com/github/SunDubey/AV_JantaHack-IOT-Timeseries-/blob/master/Copy_of_Logistic_Regression_Code_Along.ipynb\" target=\"_parent\"><img src=\"https://colab.research.google.com/assets/colab-badge.svg\" alt=\"Open In Colab\"/></a>"
      ]
    },
    {
      "cell_type": "markdown",
      "metadata": {
        "id": "z2AY30roK9bR",
        "colab_type": "text"
      },
      "source": [
        "## Census Income Dataset\n",
        "\n",
        "## Problem Statement :\n",
        "The dataset given below contains the census information about the attributes of individuals as the features and their income as the target. The task is to predict whether a person makes over $50K a year or not."
      ]
    },
    {
      "cell_type": "markdown",
      "metadata": {
        "id": "FGzjlomsK9bS",
        "colab_type": "text"
      },
      "source": [
        "## About the dataset:\n",
        "This data was extracted from the 1994 Census bureau database by Ronny Kohavi and Barry Becker (Data Mining and Visualization, Silicon Graphics).  \n",
        "\n",
        "The data has 1032 instances and 15 features. For your information the target variable `Income` has already been label encoded.\n",
        "1 indicates the income is greater than or equal to 50K. 0 indicates the income is less than 50K. Below is a brief about the features in the dataset.\n",
        "\n",
        "|Features|Description|\n",
        "|-----|-----|\n",
        "|age|Age of the person|\n",
        "|Workclass|Categorical variable having 8 categories each denoting the type of employment|\n",
        "|fnlwgt|final weight. |\n",
        "|education|Categorical variable with 16 categories each denoting the qualification of the person.|\n",
        "|education-num|number of years of education|\n",
        "|marital-status|Categorical variable with 7 categories|\n",
        "|occupation|Categorical variable with 14 categories each denoting the type of occupation of the individual|\n",
        "|relationship|Categorical variable with 6 categories.|\n",
        "|race|Categorical variable with 5 categories each denoting the ethnicity of the individual|\n",
        "|sex|Gender of the person|\n",
        "|capital-gain|Continuous| \n",
        "|capital-loss|Continuous|\n",
        "|hours-per-week|Working hours per week|\n",
        "|native-country|Categorical|\n",
        "|Income|Target variable. 1 indicates >=50k. 0 indicates <50K|\n",
        "\n"
      ]
    },
    {
      "cell_type": "markdown",
      "metadata": {
        "id": "l3kOjvtYK9bS",
        "colab_type": "text"
      },
      "source": [
        "### Reading the data using pandas module."
      ]
    },
    {
      "cell_type": "code",
      "metadata": {
        "id": "r8Ey_KuFK9bT",
        "colab_type": "code",
        "colab": {}
      },
      "source": [
        "import pandas as pd\n",
        "import numpy as np\n",
        "from scipy.stats import skew\n",
        "from sklearn.preprocessing import LabelEncoder\n",
        "from sklearn.preprocessing import StandardScaler\n",
        "from sklearn.model_selection import train_test_split,KFold\n",
        "from sklearn.linear_model import LogisticRegression\n",
        "from sklearn.metrics import accuracy_score,classification_report,f1_score,confusion_matrix\n",
        "from sklearn.model_selection import GridSearchCV\n",
        "import warnings\n",
        "warnings.filterwarnings('ignore')"
      ],
      "execution_count": 1,
      "outputs": []
    },
    {
      "cell_type": "code",
      "metadata": {
        "id": "vd_wqJib6TIq",
        "colab_type": "code",
        "colab": {}
      },
      "source": [
        "\n",
        "import pandas as pd\n",
        "import numpy as np\n",
        "import math\n",
        "import matplotlib.pyplot as plt\n",
        "import seaborn as sb\n",
        "import scipy.stats as stats\n",
        "from scipy.stats import ttest_1samp\n",
        "from sklearn.preprocessing import StandardScaler\n",
        "from sklearn.linear_model import LogisticRegression\n",
        "from sklearn.pipeline import make_pipeline\n",
        "from sklearn.datasets import load_iris\n",
        "from sklearn.model_selection import train_test_split\n",
        "from sklearn.metrics import accuracy_score\n",
        "from sklearn.linear_model import LinearRegression\n",
        "from sklearn import metrics\n",
        "%matplotlib inline\n"
      ],
      "execution_count": 12,
      "outputs": []
    },
    {
      "cell_type": "code",
      "metadata": {
        "id": "rvOkV2D06TFB",
        "colab_type": "code",
        "colab": {}
      },
      "source": [
        "from scipy.stats import skew\n",
        "from sklearn.preprocessing import LabelEncoder\n",
        "from sklearn.preprocessing import StandardScaler\n",
        "from sklearn.model_selection import train_test_split,KFold\n",
        "from sklearn.linear_model import LogisticRegression\n",
        "from sklearn.metrics import accuracy_score,classification_report,f1_score,confusion_matrix\n",
        "from sklearn.model_selection import GridSearchCV\n",
        "import warnings\n",
        "warnings.filterwarnings('ignore')\n"
      ],
      "execution_count": 13,
      "outputs": []
    },
    {
      "cell_type": "code",
      "metadata": {
        "id": "l3Ksc0_RK9bX",
        "colab_type": "code",
        "colab": {}
      },
      "source": [
        "dataframe = pd.read_csv('./adult_preprocessed.csv',index_col=0)"
      ],
      "execution_count": 14,
      "outputs": []
    },
    {
      "cell_type": "code",
      "metadata": {
        "id": "jBOk1NWkaJpa",
        "colab_type": "code",
        "colab": {}
      },
      "source": [
        ""
      ],
      "execution_count": 14,
      "outputs": []
    },
    {
      "cell_type": "code",
      "metadata": {
        "id": "1K2qdljeaJme",
        "colab_type": "code",
        "colab": {}
      },
      "source": [
        ""
      ],
      "execution_count": 14,
      "outputs": []
    },
    {
      "cell_type": "code",
      "metadata": {
        "id": "Stm3aY1QK9bZ",
        "colab_type": "code",
        "colab": {
          "base_uri": "https://localhost:8080/",
          "height": 279
        },
        "outputId": "909ac7bd-e1fb-421d-96e6-613ff9d15fbc"
      },
      "source": [
        "dataframe.head()"
      ],
      "execution_count": 15,
      "outputs": [
        {
          "output_type": "execute_result",
          "data": {
            "text/html": [
              "<div>\n",
              "<style scoped>\n",
              "    .dataframe tbody tr th:only-of-type {\n",
              "        vertical-align: middle;\n",
              "    }\n",
              "\n",
              "    .dataframe tbody tr th {\n",
              "        vertical-align: top;\n",
              "    }\n",
              "\n",
              "    .dataframe thead th {\n",
              "        text-align: right;\n",
              "    }\n",
              "</style>\n",
              "<table border=\"1\" class=\"dataframe\">\n",
              "  <thead>\n",
              "    <tr style=\"text-align: right;\">\n",
              "      <th></th>\n",
              "      <th>age</th>\n",
              "      <th>Workclass</th>\n",
              "      <th>fnlwgt</th>\n",
              "      <th>education</th>\n",
              "      <th>education-num</th>\n",
              "      <th>marital-status</th>\n",
              "      <th>occupation</th>\n",
              "      <th>relationship</th>\n",
              "      <th>race</th>\n",
              "      <th>sex</th>\n",
              "      <th>capital-gain</th>\n",
              "      <th>capital-loss</th>\n",
              "      <th>hours-per-week</th>\n",
              "      <th>native-country</th>\n",
              "      <th>Income</th>\n",
              "    </tr>\n",
              "  </thead>\n",
              "  <tbody>\n",
              "    <tr>\n",
              "      <th>0</th>\n",
              "      <td>39</td>\n",
              "      <td>State-gov</td>\n",
              "      <td>77516</td>\n",
              "      <td>Bachelors</td>\n",
              "      <td>13</td>\n",
              "      <td>Never-married</td>\n",
              "      <td>Adm-clerical</td>\n",
              "      <td>Not-in-family</td>\n",
              "      <td>White</td>\n",
              "      <td>Male</td>\n",
              "      <td>2174</td>\n",
              "      <td>0</td>\n",
              "      <td>40</td>\n",
              "      <td>United-States</td>\n",
              "      <td>0</td>\n",
              "    </tr>\n",
              "    <tr>\n",
              "      <th>1</th>\n",
              "      <td>50</td>\n",
              "      <td>Self-emp-not-inc</td>\n",
              "      <td>83311</td>\n",
              "      <td>Bachelors</td>\n",
              "      <td>13</td>\n",
              "      <td>Married-civ-spouse</td>\n",
              "      <td>Exec-managerial</td>\n",
              "      <td>Husband</td>\n",
              "      <td>White</td>\n",
              "      <td>Male</td>\n",
              "      <td>0</td>\n",
              "      <td>0</td>\n",
              "      <td>13</td>\n",
              "      <td>United-States</td>\n",
              "      <td>0</td>\n",
              "    </tr>\n",
              "    <tr>\n",
              "      <th>2</th>\n",
              "      <td>38</td>\n",
              "      <td>Private</td>\n",
              "      <td>215646</td>\n",
              "      <td>HS-grad</td>\n",
              "      <td>9</td>\n",
              "      <td>Divorced</td>\n",
              "      <td>Handlers-cleaners</td>\n",
              "      <td>Not-in-family</td>\n",
              "      <td>White</td>\n",
              "      <td>Male</td>\n",
              "      <td>0</td>\n",
              "      <td>0</td>\n",
              "      <td>40</td>\n",
              "      <td>United-States</td>\n",
              "      <td>0</td>\n",
              "    </tr>\n",
              "    <tr>\n",
              "      <th>3</th>\n",
              "      <td>53</td>\n",
              "      <td>Private</td>\n",
              "      <td>234721</td>\n",
              "      <td>11th</td>\n",
              "      <td>7</td>\n",
              "      <td>Married-civ-spouse</td>\n",
              "      <td>Handlers-cleaners</td>\n",
              "      <td>Husband</td>\n",
              "      <td>Black</td>\n",
              "      <td>Male</td>\n",
              "      <td>0</td>\n",
              "      <td>0</td>\n",
              "      <td>40</td>\n",
              "      <td>United-States</td>\n",
              "      <td>0</td>\n",
              "    </tr>\n",
              "    <tr>\n",
              "      <th>4</th>\n",
              "      <td>28</td>\n",
              "      <td>Private</td>\n",
              "      <td>338409</td>\n",
              "      <td>Bachelors</td>\n",
              "      <td>13</td>\n",
              "      <td>Married-civ-spouse</td>\n",
              "      <td>Prof-specialty</td>\n",
              "      <td>Wife</td>\n",
              "      <td>Black</td>\n",
              "      <td>Female</td>\n",
              "      <td>0</td>\n",
              "      <td>0</td>\n",
              "      <td>40</td>\n",
              "      <td>Cuba</td>\n",
              "      <td>0</td>\n",
              "    </tr>\n",
              "  </tbody>\n",
              "</table>\n",
              "</div>"
            ],
            "text/plain": [
              "   age          Workclass  fnlwgt  ... hours-per-week  native-country Income\n",
              "0   39          State-gov   77516  ...             40   United-States      0\n",
              "1   50   Self-emp-not-inc   83311  ...             13   United-States      0\n",
              "2   38            Private  215646  ...             40   United-States      0\n",
              "3   53            Private  234721  ...             40   United-States      0\n",
              "4   28            Private  338409  ...             40            Cuba      0\n",
              "\n",
              "[5 rows x 15 columns]"
            ]
          },
          "metadata": {
            "tags": []
          },
          "execution_count": 15
        }
      ]
    },
    {
      "cell_type": "markdown",
      "metadata": {
        "id": "Uj1Mm5D3K9bc",
        "colab_type": "text"
      },
      "source": [
        "### Check for null values and get a summary of all the columns in the dataset"
      ]
    },
    {
      "cell_type": "code",
      "metadata": {
        "id": "s1yyWEn_K9bd",
        "colab_type": "code",
        "colab": {
          "base_uri": "https://localhost:8080/",
          "height": 386
        },
        "outputId": "838f173f-0f3c-4c1c-ba92-ee8d32c600bb"
      },
      "source": [
        "# Check for null values\n",
        "dataframe.info()"
      ],
      "execution_count": 16,
      "outputs": [
        {
          "output_type": "stream",
          "text": [
            "<class 'pandas.core.frame.DataFrame'>\n",
            "Int64Index: 1032 entries, 0 to 1119\n",
            "Data columns (total 15 columns):\n",
            " #   Column          Non-Null Count  Dtype \n",
            "---  ------          --------------  ----- \n",
            " 0   age             1032 non-null   int64 \n",
            " 1   Workclass       1032 non-null   object\n",
            " 2   fnlwgt          1032 non-null   int64 \n",
            " 3   education       1032 non-null   object\n",
            " 4   education-num   1032 non-null   int64 \n",
            " 5   marital-status  1032 non-null   object\n",
            " 6   occupation      1032 non-null   object\n",
            " 7   relationship    1032 non-null   object\n",
            " 8   race            1032 non-null   object\n",
            " 9   sex             1032 non-null   object\n",
            " 10  capital-gain    1032 non-null   int64 \n",
            " 11  capital-loss    1032 non-null   int64 \n",
            " 12  hours-per-week  1032 non-null   int64 \n",
            " 13  native-country  1032 non-null   object\n",
            " 14  Income          1032 non-null   int64 \n",
            "dtypes: int64(7), object(8)\n",
            "memory usage: 129.0+ KB\n"
          ],
          "name": "stdout"
        }
      ]
    },
    {
      "cell_type": "code",
      "metadata": {
        "id": "KajGX3SmK9bg",
        "colab_type": "code",
        "colab": {
          "base_uri": "https://localhost:8080/",
          "height": 284
        },
        "outputId": "b3506d80-7fd4-45fd-acde-b6d3f8038309"
      },
      "source": [
        "# Get a summary of the columns in the dataset\n",
        "dataframe.describe()"
      ],
      "execution_count": 17,
      "outputs": [
        {
          "output_type": "execute_result",
          "data": {
            "text/html": [
              "<div>\n",
              "<style scoped>\n",
              "    .dataframe tbody tr th:only-of-type {\n",
              "        vertical-align: middle;\n",
              "    }\n",
              "\n",
              "    .dataframe tbody tr th {\n",
              "        vertical-align: top;\n",
              "    }\n",
              "\n",
              "    .dataframe thead th {\n",
              "        text-align: right;\n",
              "    }\n",
              "</style>\n",
              "<table border=\"1\" class=\"dataframe\">\n",
              "  <thead>\n",
              "    <tr style=\"text-align: right;\">\n",
              "      <th></th>\n",
              "      <th>age</th>\n",
              "      <th>fnlwgt</th>\n",
              "      <th>education-num</th>\n",
              "      <th>capital-gain</th>\n",
              "      <th>capital-loss</th>\n",
              "      <th>hours-per-week</th>\n",
              "      <th>Income</th>\n",
              "    </tr>\n",
              "  </thead>\n",
              "  <tbody>\n",
              "    <tr>\n",
              "      <th>count</th>\n",
              "      <td>1032.000000</td>\n",
              "      <td>1.032000e+03</td>\n",
              "      <td>1032.000000</td>\n",
              "      <td>1032.00000</td>\n",
              "      <td>1032.000000</td>\n",
              "      <td>1032.000000</td>\n",
              "      <td>1032.000000</td>\n",
              "    </tr>\n",
              "    <tr>\n",
              "      <th>mean</th>\n",
              "      <td>37.954457</td>\n",
              "      <td>1.918318e+05</td>\n",
              "      <td>10.221899</td>\n",
              "      <td>560.19186</td>\n",
              "      <td>102.870155</td>\n",
              "      <td>40.706395</td>\n",
              "      <td>0.246124</td>\n",
              "    </tr>\n",
              "    <tr>\n",
              "      <th>std</th>\n",
              "      <td>12.825353</td>\n",
              "      <td>1.074243e+05</td>\n",
              "      <td>2.501636</td>\n",
              "      <td>2406.47961</td>\n",
              "      <td>432.251488</td>\n",
              "      <td>11.736603</td>\n",
              "      <td>0.430961</td>\n",
              "    </tr>\n",
              "    <tr>\n",
              "      <th>min</th>\n",
              "      <td>17.000000</td>\n",
              "      <td>2.117400e+04</td>\n",
              "      <td>1.000000</td>\n",
              "      <td>0.00000</td>\n",
              "      <td>0.000000</td>\n",
              "      <td>1.000000</td>\n",
              "      <td>0.000000</td>\n",
              "    </tr>\n",
              "    <tr>\n",
              "      <th>25%</th>\n",
              "      <td>28.000000</td>\n",
              "      <td>1.155792e+05</td>\n",
              "      <td>9.000000</td>\n",
              "      <td>0.00000</td>\n",
              "      <td>0.000000</td>\n",
              "      <td>40.000000</td>\n",
              "      <td>0.000000</td>\n",
              "    </tr>\n",
              "    <tr>\n",
              "      <th>50%</th>\n",
              "      <td>37.000000</td>\n",
              "      <td>1.807065e+05</td>\n",
              "      <td>10.000000</td>\n",
              "      <td>0.00000</td>\n",
              "      <td>0.000000</td>\n",
              "      <td>40.000000</td>\n",
              "      <td>0.000000</td>\n",
              "    </tr>\n",
              "    <tr>\n",
              "      <th>75%</th>\n",
              "      <td>46.000000</td>\n",
              "      <td>2.461932e+05</td>\n",
              "      <td>13.000000</td>\n",
              "      <td>0.00000</td>\n",
              "      <td>0.000000</td>\n",
              "      <td>45.000000</td>\n",
              "      <td>0.000000</td>\n",
              "    </tr>\n",
              "    <tr>\n",
              "      <th>max</th>\n",
              "      <td>90.000000</td>\n",
              "      <td>1.033222e+06</td>\n",
              "      <td>16.000000</td>\n",
              "      <td>25236.00000</td>\n",
              "      <td>2415.000000</td>\n",
              "      <td>99.000000</td>\n",
              "      <td>1.000000</td>\n",
              "    </tr>\n",
              "  </tbody>\n",
              "</table>\n",
              "</div>"
            ],
            "text/plain": [
              "               age        fnlwgt  ...  hours-per-week       Income\n",
              "count  1032.000000  1.032000e+03  ...     1032.000000  1032.000000\n",
              "mean     37.954457  1.918318e+05  ...       40.706395     0.246124\n",
              "std      12.825353  1.074243e+05  ...       11.736603     0.430961\n",
              "min      17.000000  2.117400e+04  ...        1.000000     0.000000\n",
              "25%      28.000000  1.155792e+05  ...       40.000000     0.000000\n",
              "50%      37.000000  1.807065e+05  ...       40.000000     0.000000\n",
              "75%      46.000000  2.461932e+05  ...       45.000000     0.000000\n",
              "max      90.000000  1.033222e+06  ...       99.000000     1.000000\n",
              "\n",
              "[8 rows x 7 columns]"
            ]
          },
          "metadata": {
            "tags": []
          },
          "execution_count": 17
        }
      ]
    },
    {
      "cell_type": "markdown",
      "metadata": {
        "id": "tm2lm2FCK9bi",
        "colab_type": "text"
      },
      "source": [
        "It can be seen that there are no null values in any of the columns. So it is a pretty clean dataset.<br/>\n",
        "The minimum, 25th percentile, median, 75th percentile values for the columns `capital-gain` and `capital-loss` are 0."
      ]
    },
    {
      "cell_type": "markdown",
      "metadata": {
        "id": "u8ANxcOMK9bj",
        "colab_type": "text"
      },
      "source": [
        "### For further analysis split to bring all the continuous variables together and categorical variables together."
      ]
    },
    {
      "cell_type": "code",
      "metadata": {
        "id": "ps-WbhPzK9bj",
        "colab_type": "code",
        "colab": {}
      },
      "source": [
        "# Seperate continuous variables and categorical variables\n",
        "dataframe_con = dataframe.select_dtypes(include=np.number)\n",
        "dataframe_cat = dataframe.select_dtypes(exclude=np.number)"
      ],
      "execution_count": 18,
      "outputs": []
    },
    {
      "cell_type": "markdown",
      "metadata": {
        "id": "G3ygRgMgK9bm",
        "colab_type": "text"
      },
      "source": [
        "###  Plotting a stacked bar chart, have an estimate of the number of people with income above and below 50K with respect to each of the categorical features"
      ]
    },
    {
      "cell_type": "code",
      "metadata": {
        "id": "kMdfH5qVK9bm",
        "colab_type": "code",
        "colab": {
          "base_uri": "https://localhost:8080/",
          "height": 1000
        },
        "outputId": "690f30c8-7182-4b9f-b2bc-3fd376c7f2e2"
      },
      "source": [
        "for i in dataframe_cat:\n",
        "    dataframe.groupby(i)['Income'].value_counts().unstack().plot(kind='bar',stacked=True,figsize=(10,5))\n",
        "\n"
      ],
      "execution_count": 19,
      "outputs": [
        {
          "output_type": "display_data",
          "data": {
            "image/png": "[encoded data removed]",
            "text/plain": [
              "<Figure size 720x360 with 1 Axes>"
            ]
          },
          "metadata": {
            "tags": [],
            "needs_background": "light"
          }
        },
        {
          "output_type": "display_data",
          "data": {
            "image/png": "[encoded data removed]",
            "text/plain": [
              "<Figure size 720x360 with 1 Axes>"
            ]
          },
          "metadata": {
            "tags": [],
            "needs_background": "light"
          }
        },
        {
          "output_type": "display_data",
          "data": {
            "image/png": "[encoded data removed]",
            "text/plain": [
              "<Figure size 720x360 with 1 Axes>"
            ]
          },
          "metadata": {
            "tags": [],
            "needs_background": "light"
          }
        },
        {
          "output_type": "display_data",
          "data": {
            "image/png": "[encoded data removed]",
            "text/plain": [
              "<Figure size 720x360 with 1 Axes>"
            ]
          },
          "metadata": {
            "tags": [],
            "needs_background": "light"
          }
        },
        {
          "output_type": "display_data",
          "data": {
            "image/png": "[encoded data removed]",
            "text/plain": [
              "<Figure size 720x360 with 1 Axes>"
            ]
          },
          "metadata": {
            "tags": [],
            "needs_background": "light"
          }
        },
        {
          "output_type": "display_data",
          "data": {
            "image/png": "[encoded data removed]",
            "text/plain": [
              "<Figure size 720x360 with 1 Axes>"
            ]
          },
          "metadata": {
            "tags": [],
            "needs_background": "light"
          }
        },
        {
          "output_type": "display_data",
          "data": {
            "image/png": "[encoded data removed]",
            "text/plain": [
              "<Figure size 720x360 with 1 Axes>"
            ]
          },
          "metadata": {
            "tags": [],
            "needs_background": "light"
          }
        },
        {
          "output_type": "display_data",
          "data": {
            "image/png": "[encoded data removed]",
            "text/plain": [
              "<Figure size 720x360 with 1 Axes>"
            ]
          },
          "metadata": {
            "tags": [],
            "needs_background": "light"
          }
        }
      ]
    },
    {
      "cell_type": "markdown",
      "metadata": {
        "id": "pjUVpWD9K9bp",
        "colab_type": "text"
      },
      "source": [
        "### What can you infer from the above visualisations ?"
      ]
    },
    {
      "cell_type": "markdown",
      "metadata": {
        "id": "feIVeUNlK9bp",
        "colab_type": "text"
      },
      "source": [
        "### Plot a histogram for all the continuous variables to check for skewness"
      ]
    },
    {
      "cell_type": "code",
      "metadata": {
        "scrolled": false,
        "id": "nP3cBU8EK9bq",
        "colab_type": "code",
        "colab": {
          "base_uri": "https://localhost:8080/",
          "height": 1000
        },
        "outputId": "0f269fd2-2bb7-4785-c672-37d854b9d557"
      },
      "source": [
        "for i in dataframe_con:\n",
        "    plt.title(i)\n",
        "    plt.hist(dataframe_con[i])\n",
        "    plt.show()"
      ],
      "execution_count": 20,
      "outputs": [
        {
          "output_type": "display_data",
          "data": {
            "image/png": "[encoded data removed]",
            "text/plain": [
              "<Figure size 432x288 with 1 Axes>"
            ]
          },
          "metadata": {
            "tags": [],
            "needs_background": "light"
          }
        },
        {
          "output_type": "display_data",
          "data": {
            "image/png": "[encoded data removed]",
            "text/plain": [
              "<Figure size 432x288 with 1 Axes>"
            ]
          },
          "metadata": {
            "tags": [],
            "needs_background": "light"
          }
        },
        {
          "output_type": "display_data",
          "data": {
            "image/png": "[encoded data removed]",
            "text/plain": [
              "<Figure size 432x288 with 1 Axes>"
            ]
          },
          "metadata": {
            "tags": [],
            "needs_background": "light"
          }
        },
        {
          "output_type": "display_data",
          "data": {
            "image/png": "[encoded data removed]",
            "text/plain": [
              "<Figure size 432x288 with 1 Axes>"
            ]
          },
          "metadata": {
            "tags": [],
            "needs_background": "light"
          }
        },
        {
          "output_type": "display_data",
          "data": {
            "image/png": "[encoded data removed]",
            "text/plain": [
              "<Figure size 432x288 with 1 Axes>"
            ]
          },
          "metadata": {
            "tags": [],
            "needs_background": "light"
          }
        },
        {
          "output_type": "display_data",
          "data": {
            "image/png": "[encoded data removed]",
            "text/plain": [
              "<Figure size 432x288 with 1 Axes>"
            ]
          },
          "metadata": {
            "tags": [],
            "needs_background": "light"
          }
        },
        {
          "output_type": "display_data",
          "data": {
            "image/png": "[encoded data removed]",
            "text/plain": [
              "<Figure size 432x288 with 1 Axes>"
            ]
          },
          "metadata": {
            "tags": [],
            "needs_background": "light"
          }
        }
      ]
    },
    {
      "cell_type": "markdown",
      "metadata": {
        "id": "w441YpdSK9bs",
        "colab_type": "text"
      },
      "source": [
        "### Majority of values in capital-gain and capital-loss are zeros. So remove the columns"
      ]
    },
    {
      "cell_type": "code",
      "metadata": {
        "id": "ChXTfn-8K9bs",
        "colab_type": "code",
        "colab": {}
      },
      "source": [
        "dataframe_con.drop(['capital-gain','capital-loss'],1,inplace=True)"
      ],
      "execution_count": 21,
      "outputs": []
    },
    {
      "cell_type": "markdown",
      "metadata": {
        "id": "flwiOOk-K9bv",
        "colab_type": "text"
      },
      "source": [
        "### Check for skewness in the continuous data"
      ]
    },
    {
      "cell_type": "code",
      "metadata": {
        "id": "gVoS9exUK9bv",
        "colab_type": "code",
        "colab": {
          "base_uri": "https://localhost:8080/",
          "height": 195
        },
        "outputId": "7dbeca03-4230-46c4-bf04-3742b6ae4c03"
      },
      "source": [
        "skewness = pd.DataFrame(data={'name':list(dataframe_con),'skew':skew(dataframe_con)})\n",
        "skewness"
      ],
      "execution_count": 22,
      "outputs": [
        {
          "output_type": "execute_result",
          "data": {
            "text/html": [
              "<div>\n",
              "<style scoped>\n",
              "    .dataframe tbody tr th:only-of-type {\n",
              "        vertical-align: middle;\n",
              "    }\n",
              "\n",
              "    .dataframe tbody tr th {\n",
              "        vertical-align: top;\n",
              "    }\n",
              "\n",
              "    .dataframe thead th {\n",
              "        text-align: right;\n",
              "    }\n",
              "</style>\n",
              "<table border=\"1\" class=\"dataframe\">\n",
              "  <thead>\n",
              "    <tr style=\"text-align: right;\">\n",
              "      <th></th>\n",
              "      <th>name</th>\n",
              "      <th>skew</th>\n",
              "    </tr>\n",
              "  </thead>\n",
              "  <tbody>\n",
              "    <tr>\n",
              "      <th>0</th>\n",
              "      <td>age</td>\n",
              "      <td>0.616053</td>\n",
              "    </tr>\n",
              "    <tr>\n",
              "      <th>1</th>\n",
              "      <td>fnlwgt</td>\n",
              "      <td>1.393756</td>\n",
              "    </tr>\n",
              "    <tr>\n",
              "      <th>2</th>\n",
              "      <td>education-num</td>\n",
              "      <td>-0.302202</td>\n",
              "    </tr>\n",
              "    <tr>\n",
              "      <th>3</th>\n",
              "      <td>hours-per-week</td>\n",
              "      <td>0.163186</td>\n",
              "    </tr>\n",
              "    <tr>\n",
              "      <th>4</th>\n",
              "      <td>Income</td>\n",
              "      <td>1.178758</td>\n",
              "    </tr>\n",
              "  </tbody>\n",
              "</table>\n",
              "</div>"
            ],
            "text/plain": [
              "             name      skew\n",
              "0             age  0.616053\n",
              "1          fnlwgt  1.393756\n",
              "2   education-num -0.302202\n",
              "3  hours-per-week  0.163186\n",
              "4          Income  1.178758"
            ]
          },
          "metadata": {
            "tags": []
          },
          "execution_count": 22
        }
      ]
    },
    {
      "cell_type": "markdown",
      "metadata": {
        "id": "Ad72tFojK9by",
        "colab_type": "text"
      },
      "source": [
        "### The column `fnlwgt` is a highly right skewed column. Remove the skewness using a log transform and then check if the skewness has been removed by plotting its histogram"
      ]
    },
    {
      "cell_type": "code",
      "metadata": {
        "id": "1_z3JOESK9by",
        "colab_type": "code",
        "colab": {
          "base_uri": "https://localhost:8080/",
          "height": 265
        },
        "outputId": "025ecc2c-84aa-47e9-a716-9c34549b89d6"
      },
      "source": [
        "dataframe_con['fnlwgt'] = np.log1p(dataframe_con['fnlwgt'])\n",
        "\n",
        "plt.hist(dataframe_con['fnlwgt']);"
      ],
      "execution_count": 23,
      "outputs": [
        {
          "output_type": "display_data",
          "data": {
            "image/png": "[encoded data removed]",
            "text/plain": [
              "<Figure size 432x288 with 1 Axes>"
            ]
          },
          "metadata": {
            "tags": [],
            "needs_background": "light"
          }
        }
      ]
    },
    {
      "cell_type": "markdown",
      "metadata": {
        "id": "_-QRBMfMK9b0",
        "colab_type": "text"
      },
      "source": [
        "### Check for the pearson correlation between the continuous variables by plotting a heatmap"
      ]
    },
    {
      "cell_type": "code",
      "metadata": {
        "id": "GPxzaAOkK9b1",
        "colab_type": "code",
        "colab": {
          "base_uri": "https://localhost:8080/",
          "height": 354
        },
        "outputId": "ac96d2df-80ed-4c83-cfdf-5dc0c34f56df"
      },
      "source": [
        "# Check for correlation between continuous variables\n",
        "sb.heatmap(dataframe_con.corr(),cmap='viridis',annot=True)"
      ],
      "execution_count": 25,
      "outputs": [
        {
          "output_type": "execute_result",
          "data": {
            "text/plain": [
              "<matplotlib.axes._subplots.AxesSubplot at 0x7f9a33c5a2b0>"
            ]
          },
          "metadata": {
            "tags": []
          },
          "execution_count": 25
        },
        {
          "output_type": "display_data",
          "data": {
            "image/png": "[encoded data removed]",
            "text/plain": [
              "<Figure size 432x288 with 2 Axes>"
            ]
          },
          "metadata": {
            "tags": [],
            "needs_background": "light"
          }
        }
      ]
    },
    {
      "cell_type": "markdown",
      "metadata": {
        "id": "LIfFcXu3K9b8",
        "colab_type": "text"
      },
      "source": [
        "### Label Encode all the categorical variables"
      ]
    },
    {
      "cell_type": "code",
      "metadata": {
        "id": "9eVIAP9JK9b9",
        "colab_type": "code",
        "colab": {
          "base_uri": "https://localhost:8080/",
          "height": 195
        },
        "outputId": "4b86241e-f72b-4599-9b38-bf9a7a5ad73c"
      },
      "source": [
        "# Label Encode Categorical variables\n",
        "\n",
        "le = LabelEncoder()\n",
        "for col in dataframe_cat:\n",
        "    dataframe_cat[col] = le.fit_transform(dataframe_cat[col])\n",
        "     \n",
        "\n",
        "dataframe_cat.head()"
      ],
      "execution_count": 26,
      "outputs": [
        {
          "output_type": "execute_result",
          "data": {
            "text/html": [
              "<div>\n",
              "<style scoped>\n",
              "    .dataframe tbody tr th:only-of-type {\n",
              "        vertical-align: middle;\n",
              "    }\n",
              "\n",
              "    .dataframe tbody tr th {\n",
              "        vertical-align: top;\n",
              "    }\n",
              "\n",
              "    .dataframe thead th {\n",
              "        text-align: right;\n",
              "    }\n",
              "</style>\n",
              "<table border=\"1\" class=\"dataframe\">\n",
              "  <thead>\n",
              "    <tr style=\"text-align: right;\">\n",
              "      <th></th>\n",
              "      <th>Workclass</th>\n",
              "      <th>education</th>\n",
              "      <th>marital-status</th>\n",
              "      <th>occupation</th>\n",
              "      <th>relationship</th>\n",
              "      <th>race</th>\n",
              "      <th>sex</th>\n",
              "      <th>native-country</th>\n",
              "    </tr>\n",
              "  </thead>\n",
              "  <tbody>\n",
              "    <tr>\n",
              "      <th>0</th>\n",
              "      <td>5</td>\n",
              "      <td>9</td>\n",
              "      <td>4</td>\n",
              "      <td>0</td>\n",
              "      <td>1</td>\n",
              "      <td>4</td>\n",
              "      <td>1</td>\n",
              "      <td>28</td>\n",
              "    </tr>\n",
              "    <tr>\n",
              "      <th>1</th>\n",
              "      <td>4</td>\n",
              "      <td>9</td>\n",
              "      <td>2</td>\n",
              "      <td>3</td>\n",
              "      <td>0</td>\n",
              "      <td>4</td>\n",
              "      <td>1</td>\n",
              "      <td>28</td>\n",
              "    </tr>\n",
              "    <tr>\n",
              "      <th>2</th>\n",
              "      <td>2</td>\n",
              "      <td>11</td>\n",
              "      <td>0</td>\n",
              "      <td>5</td>\n",
              "      <td>1</td>\n",
              "      <td>4</td>\n",
              "      <td>1</td>\n",
              "      <td>28</td>\n",
              "    </tr>\n",
              "    <tr>\n",
              "      <th>3</th>\n",
              "      <td>2</td>\n",
              "      <td>1</td>\n",
              "      <td>2</td>\n",
              "      <td>5</td>\n",
              "      <td>0</td>\n",
              "      <td>2</td>\n",
              "      <td>1</td>\n",
              "      <td>28</td>\n",
              "    </tr>\n",
              "    <tr>\n",
              "      <th>4</th>\n",
              "      <td>2</td>\n",
              "      <td>9</td>\n",
              "      <td>2</td>\n",
              "      <td>9</td>\n",
              "      <td>5</td>\n",
              "      <td>2</td>\n",
              "      <td>0</td>\n",
              "      <td>4</td>\n",
              "    </tr>\n",
              "  </tbody>\n",
              "</table>\n",
              "</div>"
            ],
            "text/plain": [
              "   Workclass  education  marital-status  ...  race  sex  native-country\n",
              "0          5          9               4  ...     4    1              28\n",
              "1          4          9               2  ...     4    1              28\n",
              "2          2         11               0  ...     4    1              28\n",
              "3          2          1               2  ...     2    1              28\n",
              "4          2          9               2  ...     2    0               4\n",
              "\n",
              "[5 rows x 8 columns]"
            ]
          },
          "metadata": {
            "tags": []
          },
          "execution_count": 26
        }
      ]
    },
    {
      "cell_type": "markdown",
      "metadata": {
        "id": "FEggoDtAK9cB",
        "colab_type": "text"
      },
      "source": [
        "### Concatenate both the continuous and categorical dataframes"
      ]
    },
    {
      "cell_type": "code",
      "metadata": {
        "id": "50rKCaZDK9cC",
        "colab_type": "code",
        "colab": {}
      },
      "source": [
        "new_dataframe = pd.concat([dataframe_con,dataframe_cat],axis=1,ignore_index=True)\n",
        "\n",
        "new_dataframe.columns = ['age','fnlwgt','education-num','hours-per-week','Income','Workclass','education','marital-status','occupation','relationship','race','sex','native-country']"
      ],
      "execution_count": 27,
      "outputs": []
    },
    {
      "cell_type": "code",
      "metadata": {
        "id": "FYHcOFx7K9cG",
        "colab_type": "code",
        "colab": {
          "base_uri": "https://localhost:8080/",
          "height": 195
        },
        "outputId": "cd973649-0591-480a-82f6-6df40bd2eb14"
      },
      "source": [
        "new_dataframe.head()"
      ],
      "execution_count": 28,
      "outputs": [
        {
          "output_type": "execute_result",
          "data": {
            "text/html": [
              "<div>\n",
              "<style scoped>\n",
              "    .dataframe tbody tr th:only-of-type {\n",
              "        vertical-align: middle;\n",
              "    }\n",
              "\n",
              "    .dataframe tbody tr th {\n",
              "        vertical-align: top;\n",
              "    }\n",
              "\n",
              "    .dataframe thead th {\n",
              "        text-align: right;\n",
              "    }\n",
              "</style>\n",
              "<table border=\"1\" class=\"dataframe\">\n",
              "  <thead>\n",
              "    <tr style=\"text-align: right;\">\n",
              "      <th></th>\n",
              "      <th>age</th>\n",
              "      <th>fnlwgt</th>\n",
              "      <th>education-num</th>\n",
              "      <th>hours-per-week</th>\n",
              "      <th>Income</th>\n",
              "      <th>Workclass</th>\n",
              "      <th>education</th>\n",
              "      <th>marital-status</th>\n",
              "      <th>occupation</th>\n",
              "      <th>relationship</th>\n",
              "      <th>race</th>\n",
              "      <th>sex</th>\n",
              "      <th>native-country</th>\n",
              "    </tr>\n",
              "  </thead>\n",
              "  <tbody>\n",
              "    <tr>\n",
              "      <th>0</th>\n",
              "      <td>39</td>\n",
              "      <td>11.258253</td>\n",
              "      <td>13</td>\n",
              "      <td>40</td>\n",
              "      <td>0</td>\n",
              "      <td>5</td>\n",
              "      <td>9</td>\n",
              "      <td>4</td>\n",
              "      <td>0</td>\n",
              "      <td>1</td>\n",
              "      <td>4</td>\n",
              "      <td>1</td>\n",
              "      <td>28</td>\n",
              "    </tr>\n",
              "    <tr>\n",
              "      <th>1</th>\n",
              "      <td>50</td>\n",
              "      <td>11.330348</td>\n",
              "      <td>13</td>\n",
              "      <td>13</td>\n",
              "      <td>0</td>\n",
              "      <td>4</td>\n",
              "      <td>9</td>\n",
              "      <td>2</td>\n",
              "      <td>3</td>\n",
              "      <td>0</td>\n",
              "      <td>4</td>\n",
              "      <td>1</td>\n",
              "      <td>28</td>\n",
              "    </tr>\n",
              "    <tr>\n",
              "      <th>2</th>\n",
              "      <td>38</td>\n",
              "      <td>12.281398</td>\n",
              "      <td>9</td>\n",
              "      <td>40</td>\n",
              "      <td>0</td>\n",
              "      <td>2</td>\n",
              "      <td>11</td>\n",
              "      <td>0</td>\n",
              "      <td>5</td>\n",
              "      <td>1</td>\n",
              "      <td>4</td>\n",
              "      <td>1</td>\n",
              "      <td>28</td>\n",
              "    </tr>\n",
              "    <tr>\n",
              "      <th>3</th>\n",
              "      <td>53</td>\n",
              "      <td>12.366157</td>\n",
              "      <td>7</td>\n",
              "      <td>40</td>\n",
              "      <td>0</td>\n",
              "      <td>2</td>\n",
              "      <td>1</td>\n",
              "      <td>2</td>\n",
              "      <td>5</td>\n",
              "      <td>0</td>\n",
              "      <td>2</td>\n",
              "      <td>1</td>\n",
              "      <td>28</td>\n",
              "    </tr>\n",
              "    <tr>\n",
              "      <th>4</th>\n",
              "      <td>28</td>\n",
              "      <td>12.732013</td>\n",
              "      <td>13</td>\n",
              "      <td>40</td>\n",
              "      <td>0</td>\n",
              "      <td>2</td>\n",
              "      <td>9</td>\n",
              "      <td>2</td>\n",
              "      <td>9</td>\n",
              "      <td>5</td>\n",
              "      <td>2</td>\n",
              "      <td>0</td>\n",
              "      <td>4</td>\n",
              "    </tr>\n",
              "  </tbody>\n",
              "</table>\n",
              "</div>"
            ],
            "text/plain": [
              "   age     fnlwgt  education-num  ...  race  sex  native-country\n",
              "0   39  11.258253             13  ...     4    1              28\n",
              "1   50  11.330348             13  ...     4    1              28\n",
              "2   38  12.281398              9  ...     4    1              28\n",
              "3   53  12.366157              7  ...     2    1              28\n",
              "4   28  12.732013             13  ...     2    0               4\n",
              "\n",
              "[5 rows x 13 columns]"
            ]
          },
          "metadata": {
            "tags": []
          },
          "execution_count": 28
        }
      ]
    },
    {
      "cell_type": "code",
      "metadata": {
        "id": "LOmoEOrwK9cL",
        "colab_type": "code",
        "colab": {}
      },
      "source": [
        "columns = list(new_dataframe)\n",
        "columns[4],columns[-1] = 'native-country','Income'"
      ],
      "execution_count": 29,
      "outputs": []
    },
    {
      "cell_type": "code",
      "metadata": {
        "id": "PGthTFd9K9cO",
        "colab_type": "code",
        "colab": {}
      },
      "source": [
        "new_dataframe = new_dataframe[columns]"
      ],
      "execution_count": 30,
      "outputs": []
    },
    {
      "cell_type": "code",
      "metadata": {
        "id": "0VbiS-6-K9cR",
        "colab_type": "code",
        "colab": {
          "base_uri": "https://localhost:8080/",
          "height": 195
        },
        "outputId": "527af000-e79a-4160-eee0-4796233abfbe"
      },
      "source": [
        "new_dataframe.head()"
      ],
      "execution_count": 31,
      "outputs": [
        {
          "output_type": "execute_result",
          "data": {
            "text/html": [
              "<div>\n",
              "<style scoped>\n",
              "    .dataframe tbody tr th:only-of-type {\n",
              "        vertical-align: middle;\n",
              "    }\n",
              "\n",
              "    .dataframe tbody tr th {\n",
              "        vertical-align: top;\n",
              "    }\n",
              "\n",
              "    .dataframe thead th {\n",
              "        text-align: right;\n",
              "    }\n",
              "</style>\n",
              "<table border=\"1\" class=\"dataframe\">\n",
              "  <thead>\n",
              "    <tr style=\"text-align: right;\">\n",
              "      <th></th>\n",
              "      <th>age</th>\n",
              "      <th>fnlwgt</th>\n",
              "      <th>education-num</th>\n",
              "      <th>hours-per-week</th>\n",
              "      <th>native-country</th>\n",
              "      <th>Workclass</th>\n",
              "      <th>education</th>\n",
              "      <th>marital-status</th>\n",
              "      <th>occupation</th>\n",
              "      <th>relationship</th>\n",
              "      <th>race</th>\n",
              "      <th>sex</th>\n",
              "      <th>Income</th>\n",
              "    </tr>\n",
              "  </thead>\n",
              "  <tbody>\n",
              "    <tr>\n",
              "      <th>0</th>\n",
              "      <td>39</td>\n",
              "      <td>11.258253</td>\n",
              "      <td>13</td>\n",
              "      <td>40</td>\n",
              "      <td>28</td>\n",
              "      <td>5</td>\n",
              "      <td>9</td>\n",
              "      <td>4</td>\n",
              "      <td>0</td>\n",
              "      <td>1</td>\n",
              "      <td>4</td>\n",
              "      <td>1</td>\n",
              "      <td>0</td>\n",
              "    </tr>\n",
              "    <tr>\n",
              "      <th>1</th>\n",
              "      <td>50</td>\n",
              "      <td>11.330348</td>\n",
              "      <td>13</td>\n",
              "      <td>13</td>\n",
              "      <td>28</td>\n",
              "      <td>4</td>\n",
              "      <td>9</td>\n",
              "      <td>2</td>\n",
              "      <td>3</td>\n",
              "      <td>0</td>\n",
              "      <td>4</td>\n",
              "      <td>1</td>\n",
              "      <td>0</td>\n",
              "    </tr>\n",
              "    <tr>\n",
              "      <th>2</th>\n",
              "      <td>38</td>\n",
              "      <td>12.281398</td>\n",
              "      <td>9</td>\n",
              "      <td>40</td>\n",
              "      <td>28</td>\n",
              "      <td>2</td>\n",
              "      <td>11</td>\n",
              "      <td>0</td>\n",
              "      <td>5</td>\n",
              "      <td>1</td>\n",
              "      <td>4</td>\n",
              "      <td>1</td>\n",
              "      <td>0</td>\n",
              "    </tr>\n",
              "    <tr>\n",
              "      <th>3</th>\n",
              "      <td>53</td>\n",
              "      <td>12.366157</td>\n",
              "      <td>7</td>\n",
              "      <td>40</td>\n",
              "      <td>28</td>\n",
              "      <td>2</td>\n",
              "      <td>1</td>\n",
              "      <td>2</td>\n",
              "      <td>5</td>\n",
              "      <td>0</td>\n",
              "      <td>2</td>\n",
              "      <td>1</td>\n",
              "      <td>0</td>\n",
              "    </tr>\n",
              "    <tr>\n",
              "      <th>4</th>\n",
              "      <td>28</td>\n",
              "      <td>12.732013</td>\n",
              "      <td>13</td>\n",
              "      <td>40</td>\n",
              "      <td>4</td>\n",
              "      <td>2</td>\n",
              "      <td>9</td>\n",
              "      <td>2</td>\n",
              "      <td>9</td>\n",
              "      <td>5</td>\n",
              "      <td>2</td>\n",
              "      <td>0</td>\n",
              "      <td>0</td>\n",
              "    </tr>\n",
              "  </tbody>\n",
              "</table>\n",
              "</div>"
            ],
            "text/plain": [
              "   age     fnlwgt  education-num  ...  race  sex  Income\n",
              "0   39  11.258253             13  ...     4    1       0\n",
              "1   50  11.330348             13  ...     4    1       0\n",
              "2   38  12.281398              9  ...     4    1       0\n",
              "3   53  12.366157              7  ...     2    1       0\n",
              "4   28  12.732013             13  ...     2    0       0\n",
              "\n",
              "[5 rows x 13 columns]"
            ]
          },
          "metadata": {
            "tags": []
          },
          "execution_count": 31
        }
      ]
    },
    {
      "cell_type": "markdown",
      "metadata": {
        "id": "ukpUWCz7K9cU",
        "colab_type": "text"
      },
      "source": [
        ""
      ]
    },
    {
      "cell_type": "markdown",
      "metadata": {
        "id": "rnu5kAnAK9cV",
        "colab_type": "text"
      },
      "source": [
        "### Split into features and target"
      ]
    },
    {
      "cell_type": "code",
      "metadata": {
        "id": "oxfsopN_K9cW",
        "colab_type": "code",
        "colab": {}
      },
      "source": [
        "X = new_dataframe.iloc[:,:-1]\n",
        "y = new_dataframe.iloc[:,-1]"
      ],
      "execution_count": 32,
      "outputs": []
    },
    {
      "cell_type": "markdown",
      "metadata": {
        "id": "JQn81DOXK9cZ",
        "colab_type": "text"
      },
      "source": [
        "### Fit a StandardScaler on the features"
      ]
    },
    {
      "cell_type": "code",
      "metadata": {
        "id": "GQVhOsqqK9cZ",
        "colab_type": "code",
        "colab": {}
      },
      "source": [
        "# Fitting a Standard Scaler \n",
        "\n",
        "ss = StandardScaler()\n",
        "X = ss.fit_transform(X)"
      ],
      "execution_count": 33,
      "outputs": []
    },
    {
      "cell_type": "markdown",
      "metadata": {
        "id": "HLyG-UL8K9cc",
        "colab_type": "text"
      },
      "source": [
        "### Convert array to a dataframe"
      ]
    },
    {
      "cell_type": "code",
      "metadata": {
        "id": "IrJsqK23K9cd",
        "colab_type": "code",
        "colab": {}
      },
      "source": [
        "X = pd.DataFrame(X,columns=columns[:-1])"
      ],
      "execution_count": 34,
      "outputs": []
    },
    {
      "cell_type": "code",
      "metadata": {
        "id": "e4uEGSQRK9ch",
        "colab_type": "code",
        "colab": {
          "base_uri": "https://localhost:8080/",
          "height": 195
        },
        "outputId": "c107cd20-a515-4d63-b4f0-86e7f77df412"
      },
      "source": [
        "X.head()"
      ],
      "execution_count": 35,
      "outputs": [
        {
          "output_type": "execute_result",
          "data": {
            "text/html": [
              "<div>\n",
              "<style scoped>\n",
              "    .dataframe tbody tr th:only-of-type {\n",
              "        vertical-align: middle;\n",
              "    }\n",
              "\n",
              "    .dataframe tbody tr th {\n",
              "        vertical-align: top;\n",
              "    }\n",
              "\n",
              "    .dataframe thead th {\n",
              "        text-align: right;\n",
              "    }\n",
              "</style>\n",
              "<table border=\"1\" class=\"dataframe\">\n",
              "  <thead>\n",
              "    <tr style=\"text-align: right;\">\n",
              "      <th></th>\n",
              "      <th>age</th>\n",
              "      <th>fnlwgt</th>\n",
              "      <th>education-num</th>\n",
              "      <th>hours-per-week</th>\n",
              "      <th>native-country</th>\n",
              "      <th>Workclass</th>\n",
              "      <th>education</th>\n",
              "      <th>marital-status</th>\n",
              "      <th>occupation</th>\n",
              "      <th>relationship</th>\n",
              "      <th>race</th>\n",
              "      <th>sex</th>\n",
              "    </tr>\n",
              "  </thead>\n",
              "  <tbody>\n",
              "    <tr>\n",
              "      <th>0</th>\n",
              "      <td>0.081561</td>\n",
              "      <td>-1.172711</td>\n",
              "      <td>1.111052</td>\n",
              "      <td>-0.060217</td>\n",
              "      <td>0.260938</td>\n",
              "      <td>3.026993</td>\n",
              "      <td>-0.379789</td>\n",
              "      <td>0.935132</td>\n",
              "      <td>-1.570166</td>\n",
              "      <td>-0.294678</td>\n",
              "      <td>0.390011</td>\n",
              "      <td>0.687155</td>\n",
              "    </tr>\n",
              "    <tr>\n",
              "      <th>1</th>\n",
              "      <td>0.939653</td>\n",
              "      <td>-1.057839</td>\n",
              "      <td>1.111052</td>\n",
              "      <td>-2.361827</td>\n",
              "      <td>0.260938</td>\n",
              "      <td>1.941567</td>\n",
              "      <td>-0.379789</td>\n",
              "      <td>-0.402437</td>\n",
              "      <td>-0.819975</td>\n",
              "      <td>-0.902893</td>\n",
              "      <td>0.390011</td>\n",
              "      <td>0.687155</td>\n",
              "    </tr>\n",
              "    <tr>\n",
              "      <th>2</th>\n",
              "      <td>0.003553</td>\n",
              "      <td>0.457498</td>\n",
              "      <td>-0.488677</td>\n",
              "      <td>-0.060217</td>\n",
              "      <td>0.260938</td>\n",
              "      <td>-0.229286</td>\n",
              "      <td>0.167999</td>\n",
              "      <td>-1.740006</td>\n",
              "      <td>-0.319849</td>\n",
              "      <td>-0.294678</td>\n",
              "      <td>0.390011</td>\n",
              "      <td>0.687155</td>\n",
              "    </tr>\n",
              "    <tr>\n",
              "      <th>3</th>\n",
              "      <td>1.173678</td>\n",
              "      <td>0.592547</td>\n",
              "      <td>-1.288541</td>\n",
              "      <td>-0.060217</td>\n",
              "      <td>0.260938</td>\n",
              "      <td>-0.229286</td>\n",
              "      <td>-2.570939</td>\n",
              "      <td>-0.402437</td>\n",
              "      <td>-0.319849</td>\n",
              "      <td>-0.902893</td>\n",
              "      <td>-2.079263</td>\n",
              "      <td>0.687155</td>\n",
              "    </tr>\n",
              "    <tr>\n",
              "      <th>4</th>\n",
              "      <td>-0.776531</td>\n",
              "      <td>1.175477</td>\n",
              "      <td>1.111052</td>\n",
              "      <td>-0.060217</td>\n",
              "      <td>-5.619778</td>\n",
              "      <td>-0.229286</td>\n",
              "      <td>-0.379789</td>\n",
              "      <td>-0.402437</td>\n",
              "      <td>0.680405</td>\n",
              "      <td>2.138182</td>\n",
              "      <td>-2.079263</td>\n",
              "      <td>-1.455275</td>\n",
              "    </tr>\n",
              "  </tbody>\n",
              "</table>\n",
              "</div>"
            ],
            "text/plain": [
              "        age    fnlwgt  education-num  ...  relationship      race       sex\n",
              "0  0.081561 -1.172711       1.111052  ...     -0.294678  0.390011  0.687155\n",
              "1  0.939653 -1.057839       1.111052  ...     -0.902893  0.390011  0.687155\n",
              "2  0.003553  0.457498      -0.488677  ...     -0.294678  0.390011  0.687155\n",
              "3  1.173678  0.592547      -1.288541  ...     -0.902893 -2.079263  0.687155\n",
              "4 -0.776531  1.175477       1.111052  ...      2.138182 -2.079263 -1.455275\n",
              "\n",
              "[5 rows x 12 columns]"
            ]
          },
          "metadata": {
            "tags": []
          },
          "execution_count": 35
        }
      ]
    },
    {
      "cell_type": "markdown",
      "metadata": {
        "id": "6VYlMF4iK9ck",
        "colab_type": "text"
      },
      "source": [
        "### Split into train and validation data"
      ]
    },
    {
      "cell_type": "code",
      "metadata": {
        "id": "jiF-2wx4K9cl",
        "colab_type": "code",
        "colab": {}
      },
      "source": [
        " \n",
        "\n",
        "X_train,X_valid,y_train,y_valid = train_test_split(X,y,random_state=42,test_size=0.2)"
      ],
      "execution_count": 36,
      "outputs": []
    },
    {
      "cell_type": "markdown",
      "metadata": {
        "id": "9wk1VFNTK9cp",
        "colab_type": "text"
      },
      "source": [
        "### Fit a logistic regression model"
      ]
    },
    {
      "cell_type": "code",
      "metadata": {
        "id": "91K7TIwuK9cp",
        "colab_type": "code",
        "colab": {}
      },
      "source": [
        "logreg = LogisticRegression()\n",
        "logreg.fit(X_train,y_train)\n",
        "\n",
        "y_pred = logreg.predict(X_valid)"
      ],
      "execution_count": 37,
      "outputs": []
    },
    {
      "cell_type": "markdown",
      "metadata": {
        "id": "DPAIqEtAK9cs",
        "colab_type": "text"
      },
      "source": [
        "### Checking the accuracy, f1_score, confusion matrix"
      ]
    },
    {
      "cell_type": "code",
      "metadata": {
        "id": "2zAJ6drfK9ct",
        "colab_type": "code",
        "colab": {
          "base_uri": "https://localhost:8080/",
          "height": 118
        },
        "outputId": "0df52936-56fa-49d5-ff0a-1067a48ae037"
      },
      "source": [
        "print('Accuracy is {}'.format(accuracy_score(y_valid,y_pred)))\n",
        "print('F1-score is {}'.format(f1_score(y_valid,y_pred)))\n",
        "print('Confusion Matrix is')\n",
        "print()\n",
        "print((confusion_matrix(y_valid,y_pred)))"
      ],
      "execution_count": 38,
      "outputs": [
        {
          "output_type": "stream",
          "text": [
            "Accuracy is 0.8164251207729468\n",
            "F1-score is 0.45714285714285713\n",
            "Confusion Matrix is\n",
            "\n",
            "[[153  11]\n",
            " [ 27  16]]\n"
          ],
          "name": "stdout"
        }
      ]
    },
    {
      "cell_type": "markdown",
      "metadata": {
        "id": "Ka0iOmLlK9cw",
        "colab_type": "text"
      },
      "source": [
        "### Perform hyperparameter tuning using GridSearch"
      ]
    },
    {
      "cell_type": "code",
      "metadata": {
        "id": "P7fopX2zK9cx",
        "colab_type": "code",
        "colab": {}
      },
      "source": [
        "params = {'penalty':['l1','l2'],'C':[0.001,0.01,0.1,1,10,100]}\n",
        "grid_search = GridSearchCV(estimator=logreg, param_grid=params,scoring='f1',cv=10)\n",
        "grid_search.fit(X_train,y_train)\n",
        "y_pred_grid_search = grid_search.predict(X_valid)"
      ],
      "execution_count": 39,
      "outputs": []
    },
    {
      "cell_type": "markdown",
      "metadata": {
        "id": "0atZDw_VK9c1",
        "colab_type": "text"
      },
      "source": [
        "### Find the best parameters and the metrics after grid search"
      ]
    },
    {
      "cell_type": "code",
      "metadata": {
        "id": "yIw_T1LrK9c2",
        "colab_type": "code",
        "colab": {
          "base_uri": "https://localhost:8080/",
          "height": 34
        },
        "outputId": "57e96925-00a3-44c9-ae42-f964c1c6b462"
      },
      "source": [
        "grid_search.best_params_"
      ],
      "execution_count": 40,
      "outputs": [
        {
          "output_type": "execute_result",
          "data": {
            "text/plain": [
              "{'C': 100, 'penalty': 'l2'}"
            ]
          },
          "metadata": {
            "tags": []
          },
          "execution_count": 40
        }
      ]
    },
    {
      "cell_type": "code",
      "metadata": {
        "id": "3a8PbVPNK9c4",
        "colab_type": "code",
        "colab": {
          "base_uri": "https://localhost:8080/",
          "height": 118
        },
        "outputId": "a71b5070-0a89-47f9-f162-dc5975a3d2b5"
      },
      "source": [
        "print('Accuracy after grid search is {}'.format(accuracy_score(y_valid,y_pred_grid_search)))\n",
        "print('F1-score after grid search is {}'.format(f1_score(y_valid,y_pred_grid_search)))\n",
        "print('Confusion Matrix is')\n",
        "print()\n",
        "print((confusion_matrix(y_valid,y_pred_grid_search)))"
      ],
      "execution_count": 41,
      "outputs": [
        {
          "output_type": "stream",
          "text": [
            "Accuracy after grid search is 0.8164251207729468\n",
            "F1-score after grid search is 0.45714285714285713\n",
            "Confusion Matrix is\n",
            "\n",
            "[[153  11]\n",
            " [ 27  16]]\n"
          ],
          "name": "stdout"
        }
      ]
    },
    {
      "cell_type": "code",
      "metadata": {
        "id": "x_jfY3FVK9c8",
        "colab_type": "code",
        "colab": {}
      },
      "source": [
        ""
      ],
      "execution_count": 41,
      "outputs": []
    }
  ]
}